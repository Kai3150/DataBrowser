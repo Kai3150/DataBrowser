{
 "cells": [
  {
   "cell_type": "code",
   "execution_count": 87,
   "metadata": {},
   "outputs": [],
   "source": [
    "import pandas as pd\n",
    "import urllib\n",
    "from SPARQLWrapper import SPARQLWrapper, JSON\n",
    "import matplotlib.pyplot as plt\n",
    "from sklearn.linear_model import LinearRegression\n",
    "from sklearn.feature_extraction.text import TfidfVectorizer\n",
    "from sklearn.metrics.pairwise import cosine_similarity\n",
    "from sklearn.preprocessing import StandardScaler\n",
    "import seaborn\n",
    "import numpy as np\n",
    "import itertools\n",
    "import MeCab\n",
    "import gensim\n",
    "from janome.tokenizer import Tokenizer\n",
    "import json\n",
    "from pandas import plotting\n",
    "from sklearn.decomposition import FactorAnalysis as FA"
   ]
  },
  {
   "cell_type": "code",
   "execution_count": 88,
   "metadata": {
    "jupyter": {
     "source_hidden": true
    },
    "tags": []
   },
   "outputs": [],
   "source": [
    "def stats():\n",
    "    \n",
    "    #API URL\n",
    "    API_URL_JSON = r\"http://api.e-stat.go.jp/rest/3.0/app/json/getStatsData?\"\n",
    "    API_URL_CSV = r\"http://api.e-stat.go.jp/rest/3.0/app/getSimpleStatsData?\"\n",
    "    #アプロケーションID\n",
    "    APP_ID = \"f16b57e949d93c21f7cba33ef607c6dfa49c813b\"\n",
    "\n",
    "    #統計表ID\n",
    "    statsDataId = \"0003005922\" #物価\n",
    "    statsDataId = \"0001883407\" #耕地面積\n",
    "\n",
    "    keys = {\n",
    "            \"appId\"            : APP_ID,\n",
    "            \"lang\"             : \"J\" ,\n",
    "            \"statsDataId\"      : statsDataId ,\n",
    "            \"metaGetFlg\"       : \"Y\" ,\n",
    "            \"cntGetFlg\"        : \"N\",\n",
    "            \"sectionHeaderFlg\" : \"1\"\n",
    "        }\n",
    "\n",
    "    query_param = urllib.parse.urlencode(keys)\n",
    "    res = pd.read_json(urllib.request.urlopen(API_URL_JSON + query_param).read(), orient='records')\n",
    "\n",
    "    df = pd.DataFrame(res['GET_STATS_DATA']['STATISTICAL_DATA']['DATA_INF']['VALUE'])\n",
    "    df2 = df.copy()\n",
    "    print(df.head())\n",
    "    \n",
    "    class_df = pd.DataFrame(res['GET_STATS_DATA']['STATISTICAL_DATA']['CLASS_INF']['CLASS_OBJ'])\n",
    "    print(class_df['CLASS'])\n",
    "    \n",
    "\n",
    "    #これで良くねindex=年への成形と列名の置換\n",
    "    df2['$'] = pd.to_numeric(df2[\"$\"], errors=\"coerce\")\n",
    "    df2 = df2.pivot_table('$', index='@cat01', columns='@cat02')\n",
    "    \n",
    "    \n",
    "    #欠損値の置換\n",
    "    df3 = df2.copy()\n",
    "    for column_name, item in df2.iteritems():\n",
    "        df3.loc[:, column_name] = pd.to_numeric(item, errors=\"coerce\")\n",
    "    \n",
    "    #相関係数\n",
    "    df5_corr = df3.corr()\n",
    "    \n",
    "    #jsonに書き出し\n",
    "    path = './corrdata.json'\n",
    "    df5_corr.to_json(path, force_ascii=False)\n",
    "    return df5_corr\n",
    "\n",
    "#stats()"
   ]
  },
  {
   "cell_type": "code",
   "execution_count": 16,
   "metadata": {
    "collapsed": true,
    "jupyter": {
     "outputs_hidden": true,
     "source_hidden": true
    },
    "tags": []
   },
   "outputs": [
    {
     "ename": "NameError",
     "evalue": "name 'res' is not defined",
     "output_type": "error",
     "traceback": [
      "\u001b[0;31m---------------------------------------------------------------------------\u001b[0m",
      "\u001b[0;31mNameError\u001b[0m                                 Traceback (most recent call last)",
      "\u001b[0;32m<ipython-input-16-9d24ad73fcac>\u001b[0m in \u001b[0;36m<module>\u001b[0;34m\u001b[0m\n\u001b[0;32m----> 1\u001b[0;31m \u001b[0mres_list\u001b[0m \u001b[0;34m=\u001b[0m \u001b[0mres\u001b[0m\u001b[0;34m[\u001b[0m\u001b[0;34m'GET_STATS_DATA'\u001b[0m\u001b[0;34m]\u001b[0m\u001b[0;34m[\u001b[0m\u001b[0;34m'STATISTICAL_DATA'\u001b[0m\u001b[0;34m]\u001b[0m\u001b[0;34m[\u001b[0m\u001b[0;34m'CLASS_INF'\u001b[0m\u001b[0;34m]\u001b[0m\u001b[0;34m[\u001b[0m\u001b[0;34m'CLASS_OBJ'\u001b[0m\u001b[0;34m]\u001b[0m\u001b[0;34m\u001b[0m\u001b[0;34m\u001b[0m\u001b[0m\n\u001b[0m\u001b[1;32m      2\u001b[0m \u001b[0;34m\u001b[0m\u001b[0m\n\u001b[1;32m      3\u001b[0m \u001b[0;31m#属性置換\u001b[0m\u001b[0;34m\u001b[0m\u001b[0;34m\u001b[0m\u001b[0;34m\u001b[0m\u001b[0m\n\u001b[1;32m      4\u001b[0m \u001b[0;32mif\u001b[0m \u001b[0;34m'@cat01'\u001b[0m \u001b[0;32min\u001b[0m \u001b[0mdf\u001b[0m\u001b[0;34m.\u001b[0m\u001b[0mcolumns\u001b[0m\u001b[0;34m:\u001b[0m\u001b[0;34m\u001b[0m\u001b[0;34m\u001b[0m\u001b[0m\n\u001b[1;32m      5\u001b[0m     \u001b[0mcat1_json\u001b[0m \u001b[0;34m=\u001b[0m \u001b[0;34m[\u001b[0m\u001b[0mx\u001b[0m \u001b[0;32mfor\u001b[0m \u001b[0mx\u001b[0m \u001b[0;32min\u001b[0m \u001b[0mres_list\u001b[0m \u001b[0;32mif\u001b[0m \u001b[0mx\u001b[0m\u001b[0;34m[\u001b[0m\u001b[0;34m'@id'\u001b[0m\u001b[0;34m]\u001b[0m \u001b[0;34m==\u001b[0m \u001b[0;34m'cat01'\u001b[0m\u001b[0;34m]\u001b[0m\u001b[0;34m[\u001b[0m\u001b[0;36m0\u001b[0m\u001b[0;34m]\u001b[0m\u001b[0;34m[\u001b[0m\u001b[0;34m'CLASS'\u001b[0m\u001b[0;34m]\u001b[0m\u001b[0;34m\u001b[0m\u001b[0;34m\u001b[0m\u001b[0m\n",
      "\u001b[0;31mNameError\u001b[0m: name 'res' is not defined"
     ]
    }
   ],
   "source": [
    "res_list = res['GET_STATS_DATA']['STATISTICAL_DATA']['CLASS_INF']['CLASS_OBJ']\n",
    "\n",
    "#属性置換\n",
    "if '@cat01' in df.columns:\n",
    "    cat1_json = [x for x in res_list if x['@id'] == 'cat01'][0]['CLASS']\n",
    "    cat1_dict = {}\n",
    "    for item in cat1_json:\n",
    "        cat1_dict[item['@code']] = item['@name']\n",
    "    df2.replace({'@cat01': cat1_dict}, inplace=True)\n",
    "    "
   ]
  },
  {
   "cell_type": "code",
   "execution_count": 89,
   "metadata": {
    "tags": []
   },
   "outputs": [
    {
     "data": {
      "text/html": [
       "<div>\n",
       "<style scoped>\n",
       "    .dataframe tbody tr th:only-of-type {\n",
       "        vertical-align: middle;\n",
       "    }\n",
       "\n",
       "    .dataframe tbody tr th {\n",
       "        vertical-align: top;\n",
       "    }\n",
       "\n",
       "    .dataframe thead th {\n",
       "        text-align: right;\n",
       "    }\n",
       "</style>\n",
       "<table border=\"1\" class=\"dataframe\">\n",
       "  <thead>\n",
       "    <tr style=\"text-align: right;\">\n",
       "      <th></th>\n",
       "      <th>year.value</th>\n",
       "      <th>indicatorLabel.value</th>\n",
       "      <th>observation.value</th>\n",
       "    </tr>\n",
       "  </thead>\n",
       "  <tbody>\n",
       "    <tr>\n",
       "      <th>0</th>\n",
       "      <td>2005</td>\n",
       "      <td>人口総数</td>\n",
       "      <td>1176314</td>\n",
       "    </tr>\n",
       "    <tr>\n",
       "      <th>1</th>\n",
       "      <td>2015</td>\n",
       "      <td>人口総数</td>\n",
       "      <td>1263979</td>\n",
       "    </tr>\n",
       "    <tr>\n",
       "      <th>2</th>\n",
       "      <td>2010</td>\n",
       "      <td>人口総数</td>\n",
       "      <td>1222434</td>\n",
       "    </tr>\n",
       "    <tr>\n",
       "      <th>3</th>\n",
       "      <td>2010</td>\n",
       "      <td>人口総数（男）</td>\n",
       "      <td>611236</td>\n",
       "    </tr>\n",
       "    <tr>\n",
       "      <th>4</th>\n",
       "      <td>2005</td>\n",
       "      <td>人口総数（男）</td>\n",
       "      <td>590972</td>\n",
       "    </tr>\n",
       "    <tr>\n",
       "      <th>...</th>\n",
       "      <td>...</td>\n",
       "      <td>...</td>\n",
       "      <td>...</td>\n",
       "    </tr>\n",
       "    <tr>\n",
       "      <th>4098</th>\n",
       "      <td>2004</td>\n",
       "      <td>刑法犯認知件数</td>\n",
       "      <td>31231</td>\n",
       "    </tr>\n",
       "    <tr>\n",
       "      <th>4099</th>\n",
       "      <td>2003</td>\n",
       "      <td>刑法犯認知件数</td>\n",
       "      <td>28676</td>\n",
       "    </tr>\n",
       "    <tr>\n",
       "      <th>4100</th>\n",
       "      <td>2002</td>\n",
       "      <td>刑法犯認知件数</td>\n",
       "      <td>29155</td>\n",
       "    </tr>\n",
       "    <tr>\n",
       "      <th>4101</th>\n",
       "      <td>2006</td>\n",
       "      <td>刑法犯認知件数</td>\n",
       "      <td>24273</td>\n",
       "    </tr>\n",
       "    <tr>\n",
       "      <th>4102</th>\n",
       "      <td>2005</td>\n",
       "      <td>刑法犯認知件数</td>\n",
       "      <td>29487</td>\n",
       "    </tr>\n",
       "  </tbody>\n",
       "</table>\n",
       "<p>4103 rows × 3 columns</p>\n",
       "</div>"
      ],
      "text/plain": [
       "     year.value indicatorLabel.value observation.value\n",
       "0          2005                 人口総数           1176314\n",
       "1          2015                 人口総数           1263979\n",
       "2          2010                 人口総数           1222434\n",
       "3          2010              人口総数（男）            611236\n",
       "4          2005              人口総数（男）            590972\n",
       "...         ...                  ...               ...\n",
       "4098       2004              刑法犯認知件数             31231\n",
       "4099       2003              刑法犯認知件数             28676\n",
       "4100       2002              刑法犯認知件数             29155\n",
       "4101       2006              刑法犯認知件数             24273\n",
       "4102       2005              刑法犯認知件数             29487\n",
       "\n",
       "[4103 rows x 3 columns]"
      ]
     },
     "execution_count": 89,
     "metadata": {},
     "output_type": "execute_result"
    }
   ],
   "source": [
    "\n",
    "url = \"http://data.e-stat.go.jp/lod/sparql/alldata/query\"\n",
    "sparql = SPARQLWrapper(url)\n",
    "sparql.setReturnFormat(JSON)\n",
    "\n",
    "\n",
    "prefix = \"\"\"\n",
    "prefix rdfs: <http://www.w3.org/2000/01/rdf-schema#>\n",
    "prefix xsd: <http://www.w3.org/2001/XMLSchema#>\n",
    "prefix sdmx-dimension: <http://purl.org/linked-data/sdmx/2009/dimension#>\n",
    "prefix sdmx-measure: <http://purl.org/linked-data/sdmx/2009/measure#>\n",
    "prefix cd-dimension: <http://data.e-stat.go.jp/lod/ontology/crossDomain/dimension/>\n",
    "\n",
    "PREFIX g00200502-dimension:<http://data.e-stat.go.jp/lod/ontology/g00200502/dimension/>\n",
    "\"\"\"\n",
    "\n",
    "\n",
    "query = \"\"\"\n",
    "select ?indicatorLabel ?observation ?year\n",
    "where {\n",
    "      ?s sdmx-measure:obsValue ?observation ;\n",
    "         sdmx-dimension:refArea / rdfs:label 'さいたま市'@ja ;\n",
    "         g00200502-dimension:indicator / rdfs:label ?indicatorLabel ;\n",
    "         g00200502-dimension:indicator ?indicator ;\n",
    "         cd-dimension:timePeriod ?year .\n",
    "FILTER(LANG(?indicatorLabel)='ja')\n",
    "}\n",
    "ORDER BY ASC(?indicator)\n",
    "\"\"\"\n",
    "\n",
    "sparql.setQuery(prefix + query)\n",
    "results = sparql.query().convert()\n",
    "\n",
    "sql_df = pd.json_normalize(results[\"results\"][\"bindings\"])\n",
    "sql_df = sql_df[['year.value','indicatorLabel.value','observation.value']]\n",
    "sql_df"
   ]
  },
  {
   "cell_type": "code",
   "execution_count": 90,
   "metadata": {},
   "outputs": [],
   "source": [
    "sql_df = sql_df.astype({'observation.value': float})\n",
    "sql_df2 = sql_df.pivot_table('observation.value', index='year.value', columns='indicatorLabel.value')\n",
    "sql_df2 = sql_df2.reset_index()\n",
    "sql_df2 = sql_df2.astype({'year.value': int})"
   ]
  },
  {
   "cell_type": "code",
   "execution_count": 6,
   "metadata": {
    "collapsed": true,
    "jupyter": {
     "outputs_hidden": true,
     "source_hidden": true
    },
    "tags": []
   },
   "outputs": [
    {
     "data": {
      "text/plain": [
       "<matplotlib.collections.PathCollection at 0x7f793c43d250>"
      ]
     },
     "execution_count": 6,
     "metadata": {},
     "output_type": "execute_result"
    },
    {
     "data": {
      "image/png": "[encoded data removed]",
      "text/plain": [
       "<Figure size 432x288 with 1 Axes>"
      ]
     },
     "metadata": {
      "needs_background": "light"
     },
     "output_type": "display_data"
    }
   ],
   "source": [
    "sql_df3 = sql_df2.dropna(how='any', subset=['ごみ総排出量'])\n",
    "x = sql_df3['year.value']\n",
    "y = sql_df3['ごみ総排出量']\n",
    " \n",
    "# 散布図を描画\n",
    "plt.scatter(x, y, c='#00FFFF', edgecolors=\"#37BAF2\")"
   ]
  },
  {
   "cell_type": "code",
   "execution_count": 7,
   "metadata": {
    "collapsed": true,
    "jupyter": {
     "outputs_hidden": true,
     "source_hidden": true
    },
    "tags": []
   },
   "outputs": [
    {
     "name": "stdout",
     "output_type": "stream",
     "text": [
      "y= -129.547x + 698225.396\n",
      "決定係数 R^2：  0.0005018757960649767\n"
     ]
    },
    {
     "data": {
      "image/png": "[encoded data removed]",
      "text/plain": [
       "<Figure size 432x288 with 1 Axes>"
      ]
     },
     "metadata": {
      "needs_background": "light"
     },
     "output_type": "display_data"
    }
   ],
   "source": [
    "# 回帰分析　線形\n",
    "mod = LinearRegression()\n",
    "df_x = pd.DataFrame(x)\n",
    "df_y = pd.DataFrame(y)\n",
    "# 線形回帰モデル、予測値、R^2を評価\n",
    "mod_lin = mod.fit(df_x, df_y)\n",
    "y_lin_fit = mod_lin.predict(df_x)\n",
    "r2_lin = mod.score(df_x, df_y)\n",
    "\n",
    "plt.plot(df_x, y_lin_fit, color = '#000000', linewidth=0.5)\n",
    "\n",
    "print('y= %.3fx + %.3f' % (mod.coef_ , mod.intercept_))\n",
    "print('決定係数 R^2： ', mod.score(df_x, df_y))"
   ]
  },
  {
   "cell_type": "code",
   "execution_count": 91,
   "metadata": {
    "tags": []
   },
   "outputs": [],
   "source": [
    "mod = LinearRegression()\n",
    "filled_df = sql_df2.copy()\n",
    "\n",
    "for column_name, item in sql_df2.iteritems():\n",
    "    if item.isnull().any():\n",
    "        #回帰直線の導出\n",
    "        temp_df3 = sql_df2.dropna(how='any', subset=[column_name])\n",
    "        x = temp_df3['year.value']\n",
    "        y = temp_df3[column_name]\n",
    "        \n",
    "        df_x = pd.DataFrame(x)\n",
    "        df_y = pd.DataFrame(y)\n",
    "\n",
    "        mod_lin = mod.fit(df_x, df_y)\n",
    "        y_lin_fit = mod_lin.predict(df_x)\n",
    "        #print(column_name)\n",
    "        \n",
    "        filled_df[column_name].fillna(mod.coef_[0][0] * sql_df2['year.value'] + mod.intercept_[0] , inplace=True)"
   ]
  },
  {
   "cell_type": "code",
   "execution_count": 102,
   "metadata": {
    "collapsed": true,
    "jupyter": {
     "outputs_hidden": true
    },
    "tags": []
   },
   "outputs": [
    {
     "data": {
      "text/plain": [
       "indicatorLabel.value\n",
       "year.value              第1因子\n",
       "ごみのリサイクル率               第1因子\n",
       "ごみ処理量（直接資源化）            第1因子\n",
       "ごみ処理量（総量）               第3因子\n",
       "ごみ総排出量                  第3因子\n",
       "                        ... \n",
       "７５歳以上人口（女）              第1因子\n",
       "７５歳以上人口（男）              第1因子\n",
       "８０歳以上人口                 第1因子\n",
       "８０歳以上人口（女）              第1因子\n",
       "８０歳以上人口（男）              第1因子\n",
       "Length: 750, dtype: object"
      ]
     },
     "execution_count": 102,
     "metadata": {},
     "output_type": "execute_result"
    }
   ],
   "source": [
    "#nodeの因子分析によるクラスタリング\n",
    "\n",
    "\n",
    "#filled_df.describe()\n",
    "# データを変換する計算式を生成\n",
    "sc = StandardScaler()\n",
    "sc.fit(filled_df)\n",
    "\n",
    "# 実際にデータを変換\n",
    "z = sc.transform(filled_df)\n",
    "\n",
    "# 因子数を指定\n",
    "n_components=3\n",
    "\n",
    "# 因子分析の実行\n",
    "fa = FA(n_components, max_iter=5000) # モデルを定義\n",
    "fitted = fa.fit_transform(z) # fitとtransformを一括処理\n",
    "\n",
    "#因子得点 print(fitted)\n",
    "\n",
    "#因子付加量\n",
    "Factor_loading_matrix = fa.components_.T\n",
    "# データフレームに変換\n",
    "load_df = pd.DataFrame(Factor_loading_matrix, columns=[\"第1因子\", \"第2因子\", \"第3因子\"], index=[filled_df.columns])\n",
    "#3つの因子にクラスタリング\n",
    "classed_df = abs(load_df).T.idxmax()\n",
    "classed_df"
   ]
  },
  {
   "cell_type": "code",
   "execution_count": 92,
   "metadata": {},
   "outputs": [],
   "source": [
    "corr_sql_df2 = filled_df.corr() #レコードが小さい奴はNaNになる\n",
    "corr_sql_df2 = corr_sql_df2.dropna(how='all').dropna(how='all', axis=1)\n",
    "df = corr_sql_df2.copy()\n",
    "#絶対値に変換\n",
    "df = abs(df)"
   ]
  },
  {
   "cell_type": "code",
   "execution_count": 93,
   "metadata": {},
   "outputs": [],
   "source": [
    "#列名が似ているもの同士の値は、面白くないからNaN\n",
    "\n",
    "#わかち書き関数\n",
    "def wakachi(text):\n",
    "    \n",
    "    t = Tokenizer()\n",
    "    tokens = t.tokenize(text)\n",
    "    docs=[]\n",
    "    for token in tokens:\n",
    "        docs.append(token.surface)\n",
    "    return docs\n",
    " \n",
    "#文書ベクトル化関数\n",
    "def vecs_array(documents):\n",
    " \n",
    "    docs = np.array(documents)\n",
    "    vectorizer = TfidfVectorizer(analyzer=wakachi,binary=True,use_idf=False)\n",
    "    vecs = vectorizer.fit_transform(docs)\n",
    "    return vecs.toarray()\n",
    " \n",
    "docs = df.columns\n",
    "\n",
    "#類似度行列作成\n",
    "cs_array = np.round(cosine_similarity(vecs_array(docs), vecs_array(docs)),3)\n",
    "#類似度行列データフレームバージョン\n",
    "rdf = pd.DataFrame(data=cs_array, columns=df.columns, index=df.columns)\n",
    "\n",
    "#名前が似ているものはNaN\n",
    "df = df[rdf < 0.5]"
   ]
  },
  {
   "cell_type": "code",
   "execution_count": 94,
   "metadata": {},
   "outputs": [],
   "source": [
    "#相関が1と|0.9|以下のものはNaN\n",
    "def irregular(x):\n",
    "    if abs(x) <= 0.9 or abs(x) == 1:\n",
    "        return np.nan\n",
    "    else:\n",
    "        return x\n",
    "df = df.applymap(irregular)\n",
    "\n",
    "\n",
    "#二分探索法：相関の中央値以下はNaN\n",
    "\n",
    "def binali(x):\n",
    "    \n",
    "    if abs(x) <=  median:\n",
    "        return np.nan\n",
    "    else:\n",
    "        return x\n",
    "\n",
    "for i in range(3):\n",
    "    median = df.median().median()\n",
    "    df = df.applymap(binali)"
   ]
  },
  {
   "cell_type": "code",
   "execution_count": 95,
   "metadata": {
    "tags": []
   },
   "outputs": [],
   "source": [
    "#非対称要素の削除\n",
    "#dfは時間かかるからコピー\n",
    "df2 = df.copy()\n",
    "\n",
    "column_list = []\n",
    "for column in df.columns:\n",
    "    if df2[column][:column].count() == 0: #その列の同じindexまで全てNaNの場合\n",
    "        column_list.append(column) \n",
    "df2.drop(column_list, axis='columns', inplace=True)\n",
    "df2.dropna(how=\"all\", axis=0, inplace=True)"
   ]
  },
  {
   "cell_type": "code",
   "execution_count": 138,
   "metadata": {
    "tags": []
   },
   "outputs": [
    {
     "name": "stdout",
     "output_type": "stream",
     "text": [
      "{'労働力人口（男）': {'id': 0, 'group': '第1因子'}, '第３次産業事業所数': {'id': 1, 'group': '第1因子'}, '第３次産業就業者数': {'id': 2, 'group': '第1因子'}, '非労働力人口': {'id': 3, 'group': '第1因子'}, '従業者数（非農林漁業）': {'id': 4, 'group': '第1因子'}, '従業者数（地方公共団体）': {'id': 5, 'group': '第1因子'}, '従業者数（公務を除く）': {'id': 6, 'group': '第1因子'}, '流入人口（他県に常住している人口）': {'id': 7, 'group': '第1因子'}, '就業者': {'id': 8, 'group': '第1因子'}, '事業所数（民営）（金融業，保険業）（第12回改定産業分類）': {'id': 9, 'group': '第1因子'}, '事業所数（非農林漁業（公務を除く））': {'id': 10, 'group': '第1因子'}, '事業所数（公務を除く）': {'id': 11, 'group': '第1因子'}, '事業所数（不動産業，物品賃貸業）': {'id': 12, 'group': '第1因子'}, '流出人口（他県で従業・通学している人口)': {'id': 13, 'group': '第1因子'}, '事業所数（民営）（小売業）（第12回改定産業分類）': {'id': 14, 'group': '第1因子'}, '事業所数（民営）（卸売業，小売業）（第12回改定産業分類）': {'id': 15, 'group': '第1因子'}, '他県で従業している就業者数': {'id': 16, 'group': '第1因子'}, '事業所数（公務（他に分類されるものを除く））': {'id': 17, 'group': '第1因子'}, '事業所数（民営）（製造業）（第12回改定産業分類）': {'id': 18, 'group': '第1因子'}, '事業所数（民営）（不動産業，物品賃貸業）（第12回改定産業分類）': {'id': 19, 'group': '第1因子'}, '事業所数（卸売業，小売業）': {'id': 20, 'group': '第1因子'}, '兼業農家数（販売農家）': {'id': 21, 'group': '第1因子'}, '保安職': {'id': 22, 'group': '第1因子'}, '事業所数（国）': {'id': 23, 'group': '第1因子'}, '他県で従業している就業者数（男）': {'id': 24, 'group': '第1因子'}, '事業所数（民営）（農業，林業）（第12回改定産業分類）': {'id': 25, 'group': '第1因子'}, '事業所数（民営）（運輸業，郵便業）（第12回改定産業分類）': {'id': 26, 'group': '第1因子'}, '事業所数（生活関連サービス業，娯楽業）': {'id': 27, 'group': '第1因子'}, '事業所数（建設業）': {'id': 28, 'group': '第1因子'}, '事業所数（宿泊業，飲食サービス業）': {'id': 29, 'group': '第1因子'}, '事業所数（民営）（医療，福祉）（第12回改定産業分類）': {'id': 30, 'group': '第1因子'}, '事業所数（サービス業（他に分類されないもの））': {'id': 31, 'group': '第1因子'}, '事業所数（民営）（情報通信業）（第12回改定産業分類）': {'id': 32, 'group': '第1因子'}, '他市区町村への通勤者数（女）': {'id': 33, 'group': '第1因子'}, '二重サッシ又は複層ガラスの窓のある住宅数': {'id': 34, 'group': '第1因子'}, '内職者': {'id': 35, 'group': '第1因子'}, 'その他の構造住宅数': {'id': 36, 'group': '第1因子'}, 'サービス・その他の事業主': {'id': 37, 'group': '第1因子'}, '会社団体役員': {'id': 38, 'group': '第1因子'}, '他県に常住している就業者': {'id': 39, 'group': '第1因子'}, '事業所数（民営）（教育，学習支援業）（第12回改定産業分類）': {'id': 40, 'group': '第1因子'}, '事業所数（情報通信業）': {'id': 41, 'group': '第1因子'}, 'year.value': {'id': 42, 'group': '第1因子'}, '事業所数（学術研究，専門・技術サービス業）': {'id': 43, 'group': '第1因子'}}\n"
     ]
    }
   ],
   "source": [
    "#JSONファイルへの書き出し\n",
    "\n",
    "#相関の大きいやつだけ\n",
    "dft = df.nlargest(30, df.columns).T\n",
    "dft = dft.nlargest(30, dft.columns).T\n",
    "\n",
    "\n",
    "temp_dict = {}\n",
    "\n",
    "for index,row in dft.iterrows():\n",
    "    temp_dict[index] = {**row.dropna().to_dict()}\n",
    "    \n",
    "with open('./test.json', 'w') as f:\n",
    "    json.dump(temp_dict, f, ensure_ascii=False)\n",
    "    \n",
    "    \n",
    "##############################################\n",
    "label_id_dict = {}\n",
    "\n",
    "i = 0\n",
    "\n",
    "for index in dft.index:\n",
    "    label_id_dict[index] = {'id': i, 'group': classed_df[index]}\n",
    "    i= i + 1\n",
    "    \n",
    "for column in dft.columns:\n",
    "    label_id_dict[column] = {'id': i, 'group': classed_df[column]}\n",
    "    i= i + 1\n",
    "    \n",
    "print(label_id_dict)\n",
    "\n",
    "with open('./label_id.json', 'w') as f:\n",
    "    json.dump(label_id_dict, f,ensure_ascii=False)"
   ]
  },
  {
   "cell_type": "code",
   "execution_count": 100,
   "metadata": {
    "tags": []
   },
   "outputs": [],
   "source": [
    "# average=0 に正規化\n",
    "def to_std(df):\n",
    "    average = df.mean().mean()\n",
    "    sigma = pow(df - average, exp=2).sum().sum() / df.count().sum()\n",
    "    std = np.sqrt(sigma)\n",
    "    return (df - average) / std\n"
   ]
  },
  {
   "cell_type": "code",
   "execution_count": 25,
   "metadata": {
    "collapsed": true,
    "jupyter": {
     "outputs_hidden": true,
     "source_hidden": true
    },
    "tags": []
   },
   "outputs": [
    {
     "ename": "KeyboardInterrupt",
     "evalue": "",
     "output_type": "error",
     "traceback": [
      "\u001b[0;31m---------------------------------------------------------------------------\u001b[0m",
      "\u001b[0;31mKeyboardInterrupt\u001b[0m                         Traceback (most recent call last)",
      "\u001b[0;32m<ipython-input-25-b540a5a0125d>\u001b[0m in \u001b[0;36m<module>\u001b[0;34m\u001b[0m\n\u001b[1;32m     10\u001b[0m         \u001b[0mdf_y\u001b[0m \u001b[0;34m=\u001b[0m \u001b[0mpd\u001b[0m\u001b[0;34m.\u001b[0m\u001b[0mDataFrame\u001b[0m\u001b[0;34m(\u001b[0m\u001b[0mfilled_df\u001b[0m\u001b[0;34m[\u001b[0m\u001b[0mcolumn2\u001b[0m\u001b[0;34m]\u001b[0m\u001b[0;34m)\u001b[0m\u001b[0;34m\u001b[0m\u001b[0;34m\u001b[0m\u001b[0m\n\u001b[1;32m     11\u001b[0m         \u001b[0;31m# 線形回帰モデル、予測値、R^2を評価\u001b[0m\u001b[0;34m\u001b[0m\u001b[0;34m\u001b[0m\u001b[0;34m\u001b[0m\u001b[0m\n\u001b[0;32m---> 12\u001b[0;31m         \u001b[0mmod\u001b[0m\u001b[0;34m.\u001b[0m\u001b[0mfit\u001b[0m\u001b[0;34m(\u001b[0m\u001b[0mdf_x\u001b[0m\u001b[0;34m,\u001b[0m \u001b[0mdf_y\u001b[0m\u001b[0;34m)\u001b[0m\u001b[0;34m\u001b[0m\u001b[0;34m\u001b[0m\u001b[0m\n\u001b[0m\u001b[1;32m     13\u001b[0m         \u001b[0mr2_lin\u001b[0m \u001b[0;34m=\u001b[0m \u001b[0mmod\u001b[0m\u001b[0;34m.\u001b[0m\u001b[0mscore\u001b[0m\u001b[0;34m(\u001b[0m\u001b[0mdf_x\u001b[0m\u001b[0;34m,\u001b[0m \u001b[0mdf_y\u001b[0m\u001b[0;34m)\u001b[0m\u001b[0;34m\u001b[0m\u001b[0;34m\u001b[0m\u001b[0m\n\u001b[1;32m     14\u001b[0m \u001b[0;34m\u001b[0m\u001b[0m\n",
      "\u001b[0;32m~/opt/anaconda3/lib/python3.8/site-packages/sklearn/linear_model/_base.py\u001b[0m in \u001b[0;36mfit\u001b[0;34m(self, X, y, sample_weight)\u001b[0m\n\u001b[1;32m    516\u001b[0m         \u001b[0maccept_sparse\u001b[0m \u001b[0;34m=\u001b[0m \u001b[0;32mFalse\u001b[0m \u001b[0;32mif\u001b[0m \u001b[0mself\u001b[0m\u001b[0;34m.\u001b[0m\u001b[0mpositive\u001b[0m \u001b[0;32melse\u001b[0m \u001b[0;34m[\u001b[0m\u001b[0;34m'csr'\u001b[0m\u001b[0;34m,\u001b[0m \u001b[0;34m'csc'\u001b[0m\u001b[0;34m,\u001b[0m \u001b[0;34m'coo'\u001b[0m\u001b[0;34m]\u001b[0m\u001b[0;34m\u001b[0m\u001b[0;34m\u001b[0m\u001b[0m\n\u001b[1;32m    517\u001b[0m \u001b[0;34m\u001b[0m\u001b[0m\n\u001b[0;32m--> 518\u001b[0;31m         X, y = self._validate_data(X, y, accept_sparse=accept_sparse,\n\u001b[0m\u001b[1;32m    519\u001b[0m                                    y_numeric=True, multi_output=True)\n\u001b[1;32m    520\u001b[0m \u001b[0;34m\u001b[0m\u001b[0m\n",
      "\u001b[0;32m~/opt/anaconda3/lib/python3.8/site-packages/sklearn/base.py\u001b[0m in \u001b[0;36m_validate_data\u001b[0;34m(self, X, y, reset, validate_separately, **check_params)\u001b[0m\n\u001b[1;32m    431\u001b[0m                 \u001b[0my\u001b[0m \u001b[0;34m=\u001b[0m \u001b[0mcheck_array\u001b[0m\u001b[0;34m(\u001b[0m\u001b[0my\u001b[0m\u001b[0;34m,\u001b[0m \u001b[0;34m**\u001b[0m\u001b[0mcheck_y_params\u001b[0m\u001b[0;34m)\u001b[0m\u001b[0;34m\u001b[0m\u001b[0;34m\u001b[0m\u001b[0m\n\u001b[1;32m    432\u001b[0m             \u001b[0;32melse\u001b[0m\u001b[0;34m:\u001b[0m\u001b[0;34m\u001b[0m\u001b[0;34m\u001b[0m\u001b[0m\n\u001b[0;32m--> 433\u001b[0;31m                 \u001b[0mX\u001b[0m\u001b[0;34m,\u001b[0m \u001b[0my\u001b[0m \u001b[0;34m=\u001b[0m \u001b[0mcheck_X_y\u001b[0m\u001b[0;34m(\u001b[0m\u001b[0mX\u001b[0m\u001b[0;34m,\u001b[0m \u001b[0my\u001b[0m\u001b[0;34m,\u001b[0m \u001b[0;34m**\u001b[0m\u001b[0mcheck_params\u001b[0m\u001b[0;34m)\u001b[0m\u001b[0;34m\u001b[0m\u001b[0;34m\u001b[0m\u001b[0m\n\u001b[0m\u001b[1;32m    434\u001b[0m             \u001b[0mout\u001b[0m \u001b[0;34m=\u001b[0m \u001b[0mX\u001b[0m\u001b[0;34m,\u001b[0m \u001b[0my\u001b[0m\u001b[0;34m\u001b[0m\u001b[0;34m\u001b[0m\u001b[0m\n\u001b[1;32m    435\u001b[0m \u001b[0;34m\u001b[0m\u001b[0m\n",
      "\u001b[0;32m~/opt/anaconda3/lib/python3.8/site-packages/sklearn/utils/validation.py\u001b[0m in \u001b[0;36minner_f\u001b[0;34m(*args, **kwargs)\u001b[0m\n\u001b[1;32m     61\u001b[0m             \u001b[0mextra_args\u001b[0m \u001b[0;34m=\u001b[0m \u001b[0mlen\u001b[0m\u001b[0;34m(\u001b[0m\u001b[0margs\u001b[0m\u001b[0;34m)\u001b[0m \u001b[0;34m-\u001b[0m \u001b[0mlen\u001b[0m\u001b[0;34m(\u001b[0m\u001b[0mall_args\u001b[0m\u001b[0;34m)\u001b[0m\u001b[0;34m\u001b[0m\u001b[0;34m\u001b[0m\u001b[0m\n\u001b[1;32m     62\u001b[0m             \u001b[0;32mif\u001b[0m \u001b[0mextra_args\u001b[0m \u001b[0;34m<=\u001b[0m \u001b[0;36m0\u001b[0m\u001b[0;34m:\u001b[0m\u001b[0;34m\u001b[0m\u001b[0;34m\u001b[0m\u001b[0m\n\u001b[0;32m---> 63\u001b[0;31m                 \u001b[0;32mreturn\u001b[0m \u001b[0mf\u001b[0m\u001b[0;34m(\u001b[0m\u001b[0;34m*\u001b[0m\u001b[0margs\u001b[0m\u001b[0;34m,\u001b[0m \u001b[0;34m**\u001b[0m\u001b[0mkwargs\u001b[0m\u001b[0;34m)\u001b[0m\u001b[0;34m\u001b[0m\u001b[0;34m\u001b[0m\u001b[0m\n\u001b[0m\u001b[1;32m     64\u001b[0m \u001b[0;34m\u001b[0m\u001b[0m\n\u001b[1;32m     65\u001b[0m             \u001b[0;31m# extra_args > 0\u001b[0m\u001b[0;34m\u001b[0m\u001b[0;34m\u001b[0m\u001b[0;34m\u001b[0m\u001b[0m\n",
      "\u001b[0;32m~/opt/anaconda3/lib/python3.8/site-packages/sklearn/utils/validation.py\u001b[0m in \u001b[0;36mcheck_X_y\u001b[0;34m(X, y, accept_sparse, accept_large_sparse, dtype, order, copy, force_all_finite, ensure_2d, allow_nd, multi_output, ensure_min_samples, ensure_min_features, y_numeric, estimator)\u001b[0m\n\u001b[1;32m    812\u001b[0m         \u001b[0;32mraise\u001b[0m \u001b[0mValueError\u001b[0m\u001b[0;34m(\u001b[0m\u001b[0;34m\"y cannot be None\"\u001b[0m\u001b[0;34m)\u001b[0m\u001b[0;34m\u001b[0m\u001b[0;34m\u001b[0m\u001b[0m\n\u001b[1;32m    813\u001b[0m \u001b[0;34m\u001b[0m\u001b[0m\n\u001b[0;32m--> 814\u001b[0;31m     X = check_array(X, accept_sparse=accept_sparse,\n\u001b[0m\u001b[1;32m    815\u001b[0m                     \u001b[0maccept_large_sparse\u001b[0m\u001b[0;34m=\u001b[0m\u001b[0maccept_large_sparse\u001b[0m\u001b[0;34m,\u001b[0m\u001b[0;34m\u001b[0m\u001b[0;34m\u001b[0m\u001b[0m\n\u001b[1;32m    816\u001b[0m                     \u001b[0mdtype\u001b[0m\u001b[0;34m=\u001b[0m\u001b[0mdtype\u001b[0m\u001b[0;34m,\u001b[0m \u001b[0morder\u001b[0m\u001b[0;34m=\u001b[0m\u001b[0morder\u001b[0m\u001b[0;34m,\u001b[0m \u001b[0mcopy\u001b[0m\u001b[0;34m=\u001b[0m\u001b[0mcopy\u001b[0m\u001b[0;34m,\u001b[0m\u001b[0;34m\u001b[0m\u001b[0;34m\u001b[0m\u001b[0m\n",
      "\u001b[0;32m~/opt/anaconda3/lib/python3.8/site-packages/sklearn/utils/validation.py\u001b[0m in \u001b[0;36minner_f\u001b[0;34m(*args, **kwargs)\u001b[0m\n\u001b[1;32m     61\u001b[0m             \u001b[0mextra_args\u001b[0m \u001b[0;34m=\u001b[0m \u001b[0mlen\u001b[0m\u001b[0;34m(\u001b[0m\u001b[0margs\u001b[0m\u001b[0;34m)\u001b[0m \u001b[0;34m-\u001b[0m \u001b[0mlen\u001b[0m\u001b[0;34m(\u001b[0m\u001b[0mall_args\u001b[0m\u001b[0;34m)\u001b[0m\u001b[0;34m\u001b[0m\u001b[0;34m\u001b[0m\u001b[0m\n\u001b[1;32m     62\u001b[0m             \u001b[0;32mif\u001b[0m \u001b[0mextra_args\u001b[0m \u001b[0;34m<=\u001b[0m \u001b[0;36m0\u001b[0m\u001b[0;34m:\u001b[0m\u001b[0;34m\u001b[0m\u001b[0;34m\u001b[0m\u001b[0m\n\u001b[0;32m---> 63\u001b[0;31m                 \u001b[0;32mreturn\u001b[0m \u001b[0mf\u001b[0m\u001b[0;34m(\u001b[0m\u001b[0;34m*\u001b[0m\u001b[0margs\u001b[0m\u001b[0;34m,\u001b[0m \u001b[0;34m**\u001b[0m\u001b[0mkwargs\u001b[0m\u001b[0;34m)\u001b[0m\u001b[0;34m\u001b[0m\u001b[0;34m\u001b[0m\u001b[0m\n\u001b[0m\u001b[1;32m     64\u001b[0m \u001b[0;34m\u001b[0m\u001b[0m\n\u001b[1;32m     65\u001b[0m             \u001b[0;31m# extra_args > 0\u001b[0m\u001b[0;34m\u001b[0m\u001b[0;34m\u001b[0m\u001b[0;34m\u001b[0m\u001b[0m\n",
      "\u001b[0;32m~/opt/anaconda3/lib/python3.8/site-packages/sklearn/utils/validation.py\u001b[0m in \u001b[0;36mcheck_array\u001b[0;34m(array, accept_sparse, accept_large_sparse, dtype, order, copy, force_all_finite, ensure_2d, allow_nd, ensure_min_samples, ensure_min_features, estimator)\u001b[0m\n\u001b[1;32m    574\u001b[0m \u001b[0;34m\u001b[0m\u001b[0m\n\u001b[1;32m    575\u001b[0m     \u001b[0;31m# When all dataframe columns are sparse, convert to a sparse array\u001b[0m\u001b[0;34m\u001b[0m\u001b[0;34m\u001b[0m\u001b[0;34m\u001b[0m\u001b[0m\n\u001b[0;32m--> 576\u001b[0;31m     \u001b[0;32mif\u001b[0m \u001b[0mhasattr\u001b[0m\u001b[0;34m(\u001b[0m\u001b[0marray\u001b[0m\u001b[0;34m,\u001b[0m \u001b[0;34m'sparse'\u001b[0m\u001b[0;34m)\u001b[0m \u001b[0;32mand\u001b[0m \u001b[0marray\u001b[0m\u001b[0;34m.\u001b[0m\u001b[0mndim\u001b[0m \u001b[0;34m>\u001b[0m \u001b[0;36m1\u001b[0m\u001b[0;34m:\u001b[0m\u001b[0;34m\u001b[0m\u001b[0;34m\u001b[0m\u001b[0m\n\u001b[0m\u001b[1;32m    577\u001b[0m         \u001b[0;31m# DataFrame.sparse only supports `to_coo`\u001b[0m\u001b[0;34m\u001b[0m\u001b[0;34m\u001b[0m\u001b[0;34m\u001b[0m\u001b[0m\n\u001b[1;32m    578\u001b[0m         \u001b[0marray\u001b[0m \u001b[0;34m=\u001b[0m \u001b[0marray\u001b[0m\u001b[0;34m.\u001b[0m\u001b[0msparse\u001b[0m\u001b[0;34m.\u001b[0m\u001b[0mto_coo\u001b[0m\u001b[0;34m(\u001b[0m\u001b[0;34m)\u001b[0m\u001b[0;34m\u001b[0m\u001b[0;34m\u001b[0m\u001b[0m\n",
      "\u001b[0;32m~/opt/anaconda3/lib/python3.8/site-packages/pandas/core/generic.py\u001b[0m in \u001b[0;36m__getattr__\u001b[0;34m(self, name)\u001b[0m\n\u001b[1;32m   5459\u001b[0m             \u001b[0;32mor\u001b[0m \u001b[0mname\u001b[0m \u001b[0;32min\u001b[0m \u001b[0mself\u001b[0m\u001b[0;34m.\u001b[0m\u001b[0m_accessors\u001b[0m\u001b[0;34m\u001b[0m\u001b[0;34m\u001b[0m\u001b[0m\n\u001b[1;32m   5460\u001b[0m         ):\n\u001b[0;32m-> 5461\u001b[0;31m             \u001b[0;32mreturn\u001b[0m \u001b[0mobject\u001b[0m\u001b[0;34m.\u001b[0m\u001b[0m__getattribute__\u001b[0m\u001b[0;34m(\u001b[0m\u001b[0mself\u001b[0m\u001b[0;34m,\u001b[0m \u001b[0mname\u001b[0m\u001b[0;34m)\u001b[0m\u001b[0;34m\u001b[0m\u001b[0;34m\u001b[0m\u001b[0m\n\u001b[0m\u001b[1;32m   5462\u001b[0m         \u001b[0;32melse\u001b[0m\u001b[0;34m:\u001b[0m\u001b[0;34m\u001b[0m\u001b[0;34m\u001b[0m\u001b[0m\n\u001b[1;32m   5463\u001b[0m             \u001b[0;32mif\u001b[0m \u001b[0mself\u001b[0m\u001b[0;34m.\u001b[0m\u001b[0m_info_axis\u001b[0m\u001b[0;34m.\u001b[0m\u001b[0m_can_hold_identifiers_and_holds_name\u001b[0m\u001b[0;34m(\u001b[0m\u001b[0mname\u001b[0m\u001b[0;34m)\u001b[0m\u001b[0;34m:\u001b[0m\u001b[0;34m\u001b[0m\u001b[0;34m\u001b[0m\u001b[0m\n",
      "\u001b[0;32m~/opt/anaconda3/lib/python3.8/site-packages/pandas/core/accessor.py\u001b[0m in \u001b[0;36m__get__\u001b[0;34m(self, obj, cls)\u001b[0m\n\u001b[1;32m    178\u001b[0m             \u001b[0;31m# we're accessing the attribute of the class, i.e., Dataset.geo\u001b[0m\u001b[0;34m\u001b[0m\u001b[0;34m\u001b[0m\u001b[0;34m\u001b[0m\u001b[0m\n\u001b[1;32m    179\u001b[0m             \u001b[0;32mreturn\u001b[0m \u001b[0mself\u001b[0m\u001b[0;34m.\u001b[0m\u001b[0m_accessor\u001b[0m\u001b[0;34m\u001b[0m\u001b[0;34m\u001b[0m\u001b[0m\n\u001b[0;32m--> 180\u001b[0;31m         \u001b[0maccessor_obj\u001b[0m \u001b[0;34m=\u001b[0m \u001b[0mself\u001b[0m\u001b[0;34m.\u001b[0m\u001b[0m_accessor\u001b[0m\u001b[0;34m(\u001b[0m\u001b[0mobj\u001b[0m\u001b[0;34m)\u001b[0m\u001b[0;34m\u001b[0m\u001b[0;34m\u001b[0m\u001b[0m\n\u001b[0m\u001b[1;32m    181\u001b[0m         \u001b[0;31m# Replace the property with the accessor object. Inspired by:\u001b[0m\u001b[0;34m\u001b[0m\u001b[0;34m\u001b[0m\u001b[0;34m\u001b[0m\u001b[0m\n\u001b[1;32m    182\u001b[0m         \u001b[0;31m# https://www.pydanny.com/cached-property.html\u001b[0m\u001b[0;34m\u001b[0m\u001b[0;34m\u001b[0m\u001b[0;34m\u001b[0m\u001b[0m\n",
      "\u001b[0;32m~/opt/anaconda3/lib/python3.8/site-packages/pandas/core/arrays/sparse/accessor.py\u001b[0m in \u001b[0;36m__init__\u001b[0;34m(self, data)\u001b[0m\n\u001b[1;32m     17\u001b[0m     \u001b[0;32mdef\u001b[0m \u001b[0m__init__\u001b[0m\u001b[0;34m(\u001b[0m\u001b[0mself\u001b[0m\u001b[0;34m,\u001b[0m \u001b[0mdata\u001b[0m\u001b[0;34m=\u001b[0m\u001b[0;32mNone\u001b[0m\u001b[0;34m)\u001b[0m\u001b[0;34m:\u001b[0m\u001b[0;34m\u001b[0m\u001b[0;34m\u001b[0m\u001b[0m\n\u001b[1;32m     18\u001b[0m         \u001b[0mself\u001b[0m\u001b[0;34m.\u001b[0m\u001b[0m_parent\u001b[0m \u001b[0;34m=\u001b[0m \u001b[0mdata\u001b[0m\u001b[0;34m\u001b[0m\u001b[0;34m\u001b[0m\u001b[0m\n\u001b[0;32m---> 19\u001b[0;31m         \u001b[0mself\u001b[0m\u001b[0;34m.\u001b[0m\u001b[0m_validate\u001b[0m\u001b[0;34m(\u001b[0m\u001b[0mdata\u001b[0m\u001b[0;34m)\u001b[0m\u001b[0;34m\u001b[0m\u001b[0;34m\u001b[0m\u001b[0m\n\u001b[0m\u001b[1;32m     20\u001b[0m \u001b[0;34m\u001b[0m\u001b[0m\n\u001b[1;32m     21\u001b[0m     \u001b[0;32mdef\u001b[0m \u001b[0m_validate\u001b[0m\u001b[0;34m(\u001b[0m\u001b[0mself\u001b[0m\u001b[0;34m,\u001b[0m \u001b[0mdata\u001b[0m\u001b[0;34m)\u001b[0m\u001b[0;34m:\u001b[0m\u001b[0;34m\u001b[0m\u001b[0;34m\u001b[0m\u001b[0m\n",
      "\u001b[0;32m~/opt/anaconda3/lib/python3.8/site-packages/pandas/core/arrays/sparse/accessor.py\u001b[0m in \u001b[0;36m_validate\u001b[0;34m(self, data)\u001b[0m\n\u001b[1;32m    219\u001b[0m \u001b[0;34m\u001b[0m\u001b[0m\n\u001b[1;32m    220\u001b[0m     \u001b[0;32mdef\u001b[0m \u001b[0m_validate\u001b[0m\u001b[0;34m(\u001b[0m\u001b[0mself\u001b[0m\u001b[0;34m,\u001b[0m \u001b[0mdata\u001b[0m\u001b[0;34m)\u001b[0m\u001b[0;34m:\u001b[0m\u001b[0;34m\u001b[0m\u001b[0;34m\u001b[0m\u001b[0m\n\u001b[0;32m--> 221\u001b[0;31m         \u001b[0mdtypes\u001b[0m \u001b[0;34m=\u001b[0m \u001b[0mdata\u001b[0m\u001b[0;34m.\u001b[0m\u001b[0mdtypes\u001b[0m\u001b[0;34m\u001b[0m\u001b[0;34m\u001b[0m\u001b[0m\n\u001b[0m\u001b[1;32m    222\u001b[0m         \u001b[0;32mif\u001b[0m \u001b[0;32mnot\u001b[0m \u001b[0mall\u001b[0m\u001b[0;34m(\u001b[0m\u001b[0misinstance\u001b[0m\u001b[0;34m(\u001b[0m\u001b[0mt\u001b[0m\u001b[0;34m,\u001b[0m \u001b[0mSparseDtype\u001b[0m\u001b[0;34m)\u001b[0m \u001b[0;32mfor\u001b[0m \u001b[0mt\u001b[0m \u001b[0;32min\u001b[0m \u001b[0mdtypes\u001b[0m\u001b[0;34m)\u001b[0m\u001b[0;34m:\u001b[0m\u001b[0;34m\u001b[0m\u001b[0;34m\u001b[0m\u001b[0m\n\u001b[1;32m    223\u001b[0m             \u001b[0;32mraise\u001b[0m \u001b[0mAttributeError\u001b[0m\u001b[0;34m(\u001b[0m\u001b[0mself\u001b[0m\u001b[0;34m.\u001b[0m\u001b[0m_validation_msg\u001b[0m\u001b[0;34m)\u001b[0m\u001b[0;34m\u001b[0m\u001b[0;34m\u001b[0m\u001b[0m\n",
      "\u001b[0;32m~/opt/anaconda3/lib/python3.8/site-packages/pandas/core/generic.py\u001b[0m in \u001b[0;36mdtypes\u001b[0;34m(self)\u001b[0m\n\u001b[1;32m   5706\u001b[0m         \u001b[0mdtype\u001b[0m\u001b[0;34m:\u001b[0m \u001b[0mobject\u001b[0m\u001b[0;34m\u001b[0m\u001b[0;34m\u001b[0m\u001b[0m\n\u001b[1;32m   5707\u001b[0m         \"\"\"\n\u001b[0;32m-> 5708\u001b[0;31m         \u001b[0mdata\u001b[0m \u001b[0;34m=\u001b[0m \u001b[0mself\u001b[0m\u001b[0;34m.\u001b[0m\u001b[0m_mgr\u001b[0m\u001b[0;34m.\u001b[0m\u001b[0mget_dtypes\u001b[0m\u001b[0;34m(\u001b[0m\u001b[0;34m)\u001b[0m\u001b[0;34m\u001b[0m\u001b[0;34m\u001b[0m\u001b[0m\n\u001b[0m\u001b[1;32m   5709\u001b[0m         \u001b[0;32mreturn\u001b[0m \u001b[0mself\u001b[0m\u001b[0;34m.\u001b[0m\u001b[0m_constructor_sliced\u001b[0m\u001b[0;34m(\u001b[0m\u001b[0mdata\u001b[0m\u001b[0;34m,\u001b[0m \u001b[0mindex\u001b[0m\u001b[0;34m=\u001b[0m\u001b[0mself\u001b[0m\u001b[0;34m.\u001b[0m\u001b[0m_info_axis\u001b[0m\u001b[0;34m,\u001b[0m \u001b[0mdtype\u001b[0m\u001b[0;34m=\u001b[0m\u001b[0mnp\u001b[0m\u001b[0;34m.\u001b[0m\u001b[0mobject_\u001b[0m\u001b[0;34m)\u001b[0m\u001b[0;34m\u001b[0m\u001b[0;34m\u001b[0m\u001b[0m\n\u001b[1;32m   5710\u001b[0m \u001b[0;34m\u001b[0m\u001b[0m\n",
      "\u001b[0;32m~/opt/anaconda3/lib/python3.8/site-packages/pandas/core/internals/managers.py\u001b[0m in \u001b[0;36mget_dtypes\u001b[0;34m(self)\u001b[0m\n\u001b[1;32m    257\u001b[0m     \u001b[0;32mdef\u001b[0m \u001b[0mget_dtypes\u001b[0m\u001b[0;34m(\u001b[0m\u001b[0mself\u001b[0m\u001b[0;34m)\u001b[0m\u001b[0;34m:\u001b[0m\u001b[0;34m\u001b[0m\u001b[0;34m\u001b[0m\u001b[0m\n\u001b[1;32m    258\u001b[0m         \u001b[0mdtypes\u001b[0m \u001b[0;34m=\u001b[0m \u001b[0mnp\u001b[0m\u001b[0;34m.\u001b[0m\u001b[0marray\u001b[0m\u001b[0;34m(\u001b[0m\u001b[0;34m[\u001b[0m\u001b[0mblk\u001b[0m\u001b[0;34m.\u001b[0m\u001b[0mdtype\u001b[0m \u001b[0;32mfor\u001b[0m \u001b[0mblk\u001b[0m \u001b[0;32min\u001b[0m \u001b[0mself\u001b[0m\u001b[0;34m.\u001b[0m\u001b[0mblocks\u001b[0m\u001b[0;34m]\u001b[0m\u001b[0;34m)\u001b[0m\u001b[0;34m\u001b[0m\u001b[0;34m\u001b[0m\u001b[0m\n\u001b[0;32m--> 259\u001b[0;31m         \u001b[0;32mreturn\u001b[0m \u001b[0malgos\u001b[0m\u001b[0;34m.\u001b[0m\u001b[0mtake_1d\u001b[0m\u001b[0;34m(\u001b[0m\u001b[0mdtypes\u001b[0m\u001b[0;34m,\u001b[0m \u001b[0mself\u001b[0m\u001b[0;34m.\u001b[0m\u001b[0mblknos\u001b[0m\u001b[0;34m,\u001b[0m \u001b[0mallow_fill\u001b[0m\u001b[0;34m=\u001b[0m\u001b[0;32mFalse\u001b[0m\u001b[0;34m)\u001b[0m\u001b[0;34m\u001b[0m\u001b[0;34m\u001b[0m\u001b[0m\n\u001b[0m\u001b[1;32m    260\u001b[0m \u001b[0;34m\u001b[0m\u001b[0m\n\u001b[1;32m    261\u001b[0m     \u001b[0;32mdef\u001b[0m \u001b[0m__getstate__\u001b[0m\u001b[0;34m(\u001b[0m\u001b[0mself\u001b[0m\u001b[0;34m)\u001b[0m\u001b[0;34m:\u001b[0m\u001b[0;34m\u001b[0m\u001b[0;34m\u001b[0m\u001b[0m\n",
      "\u001b[0;32m~/opt/anaconda3/lib/python3.8/site-packages/pandas/core/algorithms.py\u001b[0m in \u001b[0;36mtake_nd\u001b[0;34m(arr, indexer, axis, out, fill_value, allow_fill)\u001b[0m\n\u001b[1;32m   1743\u001b[0m     \u001b[0;32mif\u001b[0m \u001b[0mout\u001b[0m \u001b[0;32mis\u001b[0m \u001b[0;32mNone\u001b[0m\u001b[0;34m:\u001b[0m\u001b[0;34m\u001b[0m\u001b[0;34m\u001b[0m\u001b[0m\n\u001b[1;32m   1744\u001b[0m         \u001b[0mout_shape_\u001b[0m \u001b[0;34m=\u001b[0m \u001b[0mlist\u001b[0m\u001b[0;34m(\u001b[0m\u001b[0marr\u001b[0m\u001b[0;34m.\u001b[0m\u001b[0mshape\u001b[0m\u001b[0;34m)\u001b[0m\u001b[0;34m\u001b[0m\u001b[0;34m\u001b[0m\u001b[0m\n\u001b[0;32m-> 1745\u001b[0;31m         \u001b[0mout_shape_\u001b[0m\u001b[0;34m[\u001b[0m\u001b[0maxis\u001b[0m\u001b[0;34m]\u001b[0m \u001b[0;34m=\u001b[0m \u001b[0mlen\u001b[0m\u001b[0;34m(\u001b[0m\u001b[0mindexer\u001b[0m\u001b[0;34m)\u001b[0m\u001b[0;34m\u001b[0m\u001b[0;34m\u001b[0m\u001b[0m\n\u001b[0m\u001b[1;32m   1746\u001b[0m         \u001b[0mout_shape\u001b[0m \u001b[0;34m=\u001b[0m \u001b[0mtuple\u001b[0m\u001b[0;34m(\u001b[0m\u001b[0mout_shape_\u001b[0m\u001b[0;34m)\u001b[0m\u001b[0;34m\u001b[0m\u001b[0;34m\u001b[0m\u001b[0m\n\u001b[1;32m   1747\u001b[0m         \u001b[0;32mif\u001b[0m \u001b[0marr\u001b[0m\u001b[0;34m.\u001b[0m\u001b[0mflags\u001b[0m\u001b[0;34m.\u001b[0m\u001b[0mf_contiguous\u001b[0m \u001b[0;32mand\u001b[0m \u001b[0maxis\u001b[0m \u001b[0;34m==\u001b[0m \u001b[0marr\u001b[0m\u001b[0;34m.\u001b[0m\u001b[0mndim\u001b[0m \u001b[0;34m-\u001b[0m \u001b[0;36m1\u001b[0m\u001b[0;34m:\u001b[0m\u001b[0;34m\u001b[0m\u001b[0;34m\u001b[0m\u001b[0m\n",
      "\u001b[0;31mKeyboardInterrupt\u001b[0m: "
     ]
    }
   ],
   "source": [
    "#決定係数行列\n",
    "Rdf = pd.DataFrame(columns=filled_df.columns, index=filled_df.columns)\n",
    "\n",
    "mod = LinearRegression()\n",
    "\n",
    "#重すぎる\n",
    "for column in filled_df.columns:\n",
    "    for column2 in filled_df.columns:\n",
    "        \n",
    "        df_x = pd.DataFrame(filled_df[column])\n",
    "        df_y = pd.DataFrame(filled_df[column2])\n",
    "        # 線形回帰モデル、予測値、R^2を評価\n",
    "        mod.fit(df_x, df_y)\n",
    "        r2_lin = mod.score(df_x, df_y)\n",
    "\n",
    "        Rdf[column][column2] = mod.score(df_x, df_y)\n"
   ]
  },
  {
   "cell_type": "code",
   "execution_count": 131,
   "metadata": {},
   "outputs": [
    {
     "data": {
      "text/plain": [
       "indicatorLabel.value\n",
       "year.value              0\n",
       "ごみのリサイクル率               0\n",
       "ごみ処理量（直接資源化）            0\n",
       "ごみ処理量（総量）               2\n",
       "ごみ総排出量                  2\n",
       "                       ..\n",
       "７５歳以上人口（女）              0\n",
       "７５歳以上人口（男）              0\n",
       "８０歳以上人口                 0\n",
       "８０歳以上人口（女）              0\n",
       "８０歳以上人口（男）              0\n",
       "Length: 750, dtype: int64"
      ]
     },
     "execution_count": 131,
     "metadata": {},
     "output_type": "execute_result"
    }
   ],
   "source": [
    "int_df = classed_df.replace(['第1因子','第2因子','第3因子'], ['0', '1', '2'])"
   ]
  },
  {
   "cell_type": "code",
   "execution_count": 132,
   "metadata": {},
   "outputs": [
    {
     "data": {
      "text/plain": [
       "indicatorLabel.value\n",
       "year.value              第1因子\n",
       "ごみのリサイクル率               第1因子\n",
       "ごみ処理量（直接資源化）            第1因子\n",
       "ごみ処理量（総量）               第3因子\n",
       "ごみ総排出量                  第3因子\n",
       "                        ... \n",
       "７５歳以上人口（女）              第1因子\n",
       "７５歳以上人口（男）              第1因子\n",
       "８０歳以上人口                 第1因子\n",
       "８０歳以上人口（女）              第1因子\n",
       "８０歳以上人口（男）              第1因子\n",
       "Length: 750, dtype: object"
      ]
     },
     "execution_count": 132,
     "metadata": {},
     "output_type": "execute_result"
    }
   ],
   "source": [
    "classed_df"
   ]
  },
  {
   "cell_type": "code",
   "execution_count": null,
   "metadata": {},
   "outputs": [],
   "source": []
  }
 ],
 "metadata": {
  "kernelspec": {
   "display_name": "Python 3",
   "language": "python",
   "name": "python3"
  },
  "language_info": {
   "codemirror_mode": {
    "name": "ipython",
    "version": 3
   },
   "file_extension": ".py",
   "mimetype": "text/x-python",
   "name": "python",
   "nbconvert_exporter": "python",
   "pygments_lexer": "ipython3",
   "version": "3.8.2"
  },
  "toc-autonumbering": false,
  "toc-showcode": false,
  "toc-showmarkdowntxt": false,
  "vscode": {
   "interpreter": {
    "hash": "aee8b7b246df8f9039afb4144a1f6fd8d2ca17a180786b69acc140d282b71a49"
   }
  }
 },
 "nbformat": 4,
 "nbformat_minor": 4
}
